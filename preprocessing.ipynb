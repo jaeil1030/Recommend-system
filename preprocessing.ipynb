{
 "cells": [
  {
   "cell_type": "markdown",
   "metadata": {},
   "source": [
    "### Preprocessing.py"
   ]
  },
  {
   "cell_type": "markdown",
   "metadata": {},
   "source": [
    "* ratings_feature -> 추가 feature인 ratings_mean_users, books_rating_weighted 리턴\n",
    "* users_preprocessing -> users 전처리\n",
    "* books_preprocessing -> books 전처리"
   ]
  },
  {
   "cell_type": "markdown",
   "metadata": {},
   "source": [
    "ratings_feature을 통해 ratings_mean_users와 books_rating_weighted 얻은 후, users 및 books 전처리 진행해야합니다."
   ]
  },
  {
   "cell_type": "code",
   "execution_count": 40,
   "metadata": {},
   "outputs": [],
   "source": [
    "import pandas as pd\n",
    "import seaborn as sns\n",
    "import numpy as np\n",
    "from tqdm import tqdm_notebook"
   ]
  },
  {
   "cell_type": "code",
   "execution_count": 3,
   "metadata": {},
   "outputs": [],
   "source": [
    "# ratings = pd.read_csv(\"BX-Book-Ratings.csv\", encoding=\"latin-1\")\n",
    "# books = pd.read_csv(\"BX-Books.csv\", encoding=\"latin-1\")\n",
    "# users = pd.read_csv(\"BX-Users.csv\", encoding=\"latin-1\")"
   ]
  },
  {
   "cell_type": "code",
   "execution_count": 49,
   "metadata": {},
   "outputs": [],
   "source": [
    "def ratings_features(ratings):\n",
    "    ratings_ = ratings.copy()\n",
    "\n",
    "    # 사람 기준 rating mean -> 추후 users 데이터프레임에 추가\n",
    "    ratings_mean_users = pd.DataFrame(ratings_.groupby(\"User-ID\")[\"Book-Rating\"].mean()).reset_index()\n",
    "    ratings_mean_users.columns = [\"User-ID\", \"Rating-Mean-Users\"]\n",
    "    \n",
    "    # book 기준 weighted rating -> 추후 books 데이터프레임에 추가\n",
    "    ## book 기준 평균\n",
    "    ratings_mean_books = pd.DataFrame(ratings_.groupby(\"ISBN\")[\"Book-Rating\"].mean()).reset_index()\n",
    "    ratings_mean_books.columns = [\"ISBN\", \"Rating-Mean-Books\"]\n",
    "\n",
    "    ## book 기준 cnt\n",
    "    ratings_cnt_books = pd.DataFrame(ratings_.groupby(\"ISBN\")[\"Book-Rating\"].count()).reset_index()\n",
    "    ratings_cnt_books.columns = [\"ISBN\", \"Rating-Cnt-Books\"]\n",
    "    \n",
    "    books_rating_weighted = ratings_mean_books.merge(ratings_cnt_books, how='left')\n",
    "    ## weighted rating = 평균 * log(cnt+1)\n",
    "    books_rating_weighted[\"Rating-Weighted\"] = books_rating_weighted[\"Rating-Mean-Books\"] * \\\n",
    "        np.log(books_rating_weighted[\"Rating-Cnt-Books\"]+1)\n",
    "\n",
    "    return ratings_mean_users, books_rating_weighted"
   ]
  },
  {
   "cell_type": "code",
   "execution_count": 47,
   "metadata": {},
   "outputs": [],
   "source": [
    "def users_preprocessing(users, ratings_mean_users):\n",
    "    # 12세 이상, 57세 이하 기준으로 필터링\n",
    "    users_ = users[(users['Age']>=12)&(users['Age']<=57)].copy()\n",
    "    \n",
    "    # Location에서 국가 추출\n",
    "    users_['Country'] = users_['Location'].apply(lambda x : x.split()[-1])\n",
    "    \n",
    "    # 국가명 통일\n",
    "    users_.Country = users_.Country.replace(['u.s.a.', 'state', 'states', 'texas', 'missouri', 'carolina'], 'usa')\n",
    "    users_.Country = users_.Country.replace(['scotia'], 'canada')\n",
    "    users_.Country = users_.Country.replace(['york', 'england'], 'uk')\n",
    "    users_.Country = users_.Country.replace(['catalonia', 'catalunya', 'orense'], 'spain')\n",
    "    \n",
    "    # 주요 국가를 제외하고 나머지는 other로 그룹핑\n",
    "    users_['Country_group'] = users_['Country'].apply(lambda x : x if x in ['usa',\n",
    "                                                                            'germany',\n",
    "                                                                            'canada',\n",
    "                                                                            'spain',\n",
    "                                                                            'kingdom',\n",
    "                                                                            'france',\n",
    "                                                                            'australia'] else 'other')\n",
    "    users__ = users_.merge(ratings_mean_users, how='left')\n",
    "    return users__"
   ]
  },
  {
   "cell_type": "code",
   "execution_count": 41,
   "metadata": {},
   "outputs": [],
   "source": [
    "def books_preprocessing(books, books_rating_weighted):\n",
    "    # 출간 연도 1911이상 2006년 이하 기준으로 필터링\n",
    "    books_ = books[(books[\"Year-Of-Publication\"]>=1911)&(books[\"Year-Of-Publication\"]<=2006)].copy()\n",
    "    \n",
    "    # 안쓰는 이미지 url 컬럼 삭제\n",
    "    books_.drop(['Image-URL-S','Image-URL-M','Image-URL-L'], axis=1, inplace=True)\n",
    "    \n",
    "    # 중복 데이터 행 삭제\n",
    "    books_.drop_duplicates(inplace=True)\n",
    "    \n",
    "    # Publisher 정제(2분 30초 소요)\n",
    "    books_.sort_values(by=\"Publisher\", inplace=True)\n",
    "    \n",
    "    for i, publisher in tqdm_notebook(enumerate(books_[\"Publisher\"])):\n",
    "        publisher = publisher.replace(\" Publishing\",\"\")\n",
    "        publisher = publisher.replace(\" Publishers\",\"\")\n",
    "        publisher = publisher.replace(\" Publications\",\"\")\n",
    "        publisher = publisher.replace(\" Publication\",\"\")\n",
    "        publisher = publisher.replace(\" Company\",\"\")\n",
    "        publisher = publisher.replace(\" Communications\",\"\")\n",
    "        publisher = publisher.replace(\" Corporation\",\"\")\n",
    "        publisher = publisher.replace(\" Editora\",\"\")\n",
    "        publisher = publisher.replace(\" Verlag\",\"\")\n",
    "        publisher = publisher.replace(\" verlag\",\"\")\n",
    "        publisher = publisher.replace(\"-verlag\",\"\")\n",
    "        publisher = publisher.replace(\" Books\",\"\")\n",
    "        publisher = publisher.replace(\" GmbH\",\"\")\n",
    "        publisher = publisher.replace(\" Incorporated\",\"\")\n",
    "        publisher = publisher.replace(\" Inc\",\"\")\n",
    "        publisher = publisher.replace(\", LLC\",\"\")\n",
    "        publisher = publisher.replace(\"&amp\",\"\")\n",
    "        publisher = publisher.replace(\"-Imports\",\"\")\n",
    "        publisher = publisher.replace(\" (FL)\",\"\")\n",
    "        publisher = publisher.replace(\" (CA)\",\"\")\n",
    "        publisher = publisher.replace(\" (OH)\",\"\")\n",
    "        publisher = publisher.replace(\" (WA)\",\"\")\n",
    "        publisher = publisher.replace(\" (MA)\",\"\")\n",
    "        publisher = publisher.replace(\" (CT)\",\"\")\n",
    "        publisher = publisher.replace(\" (TX)\",\"\")\n",
    "        publisher = publisher.replace(\" (Mm)\",\"\")\n",
    "        publisher = publisher.replace(\"'s\",\"s\")\n",
    "        publisher = publisher.replace(\" and\",\"\")\n",
    "        publisher = publisher.replace(\" Press\",\"\")\n",
    "        publisher = publisher.replace(\" Pr\",\"\")\n",
    "        publisher = publisher.replace(\" books\",\"\")\n",
    "        publisher = publisher.replace(\" Ltd\",\"\")\n",
    "        publisher = publisher.replace(\" Group\",\"\")\n",
    "        publisher = publisher.replace(\" Limited\",\"\")\n",
    "        publisher = publisher.replace(\" Editions\",\"\")\n",
    "        publisher = publisher.replace(\" UK\",\"\")\n",
    "        publisher = publisher.replace(\" (UK)\",\"\")\n",
    "        publisher = publisher.replace(\" (J)\",\"\")\n",
    "        publisher = publisher.replace(\" USA\",\"\")\n",
    "        publisher = publisher.replace(\" Book\",\"\")\n",
    "        publisher = publisher.replace(\" Sales\",\"\")\n",
    "        publisher = publisher.replace(\" Libraries\",\"\")\n",
    "        publisher = publisher.replace(\" Library\",\"\")\n",
    "        publisher = publisher.replace(\" Paperbacks\",\"\")\n",
    "        publisher = publisher.replace(\" Trade\",\"\")\n",
    "        publisher = publisher.replace(\" Corp\",\"\")\n",
    "        publisher = publisher.replace(\" Co\",\"\")\n",
    "        publisher = publisher.replace(\" Pub\",\"\")\n",
    "        publisher = publisher.replace(\"Pub.\",\"\")\n",
    "        publisher = publisher.replace(\"Pub\",\"\")\n",
    "        publisher = publisher.replace(\".\",\"\")\n",
    "        publisher = publisher.replace(\",\",\"\")\n",
    "        publisher = publisher.replace(\"  \",\" \")\n",
    "\n",
    "\n",
    "\n",
    "        books_.iloc[i,4] = publisher\n",
    "    books__ = books_.merge(books_rating_weighted, how='left')\n",
    "    return books__"
   ]
  }
 ],
 "metadata": {
  "kernelspec": {
   "display_name": "Python 3",
   "language": "python",
   "name": "python3"
  },
  "language_info": {
   "codemirror_mode": {
    "name": "ipython",
    "version": 3
   },
   "file_extension": ".py",
   "mimetype": "text/x-python",
   "name": "python",
   "nbconvert_exporter": "python",
   "pygments_lexer": "ipython3",
   "version": "3.6.8"
  }
 },
 "nbformat": 4,
 "nbformat_minor": 4
}
